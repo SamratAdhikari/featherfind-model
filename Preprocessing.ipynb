{
  "nbformat": 4,
  "nbformat_minor": 0,
  "metadata": {
    "colab": {
      "provenance": [],
      "gpuType": "T4"
    },
    "kernelspec": {
      "name": "python3",
      "display_name": "Python 3"
    },
    "language_info": {
      "name": "python"
    },
    "accelerator": "GPU"
  },
  "cells": [
    {
      "cell_type": "markdown",
      "source": [
        "## Initialization"
      ],
      "metadata": {
        "id": "PRLrqe5yQb1q"
      }
    },
    {
      "cell_type": "code",
      "execution_count": 1,
      "metadata": {
        "id": "ZjZQxR1sPgmw"
      },
      "outputs": [],
      "source": [
        "%%capture\n",
        "# give permissions to kaggle API\n",
        "! pip install kaggle\n",
        "! mkdir /root/.kaggle\n",
        "! cp kaggle.json /root/.kaggle\n",
        "! chmod 600 /root/.kaggle/kaggle.json"
      ]
    },
    {
      "cell_type": "code",
      "source": [
        "%%capture\n",
        "# download dataset from kaggle to colab\n",
        "! kaggle datasets download -d rayonegautam/charanet\n",
        "\n",
        "# extract the content of the zipped file\n",
        "!unzip /content/charanet.zip -d /content/"
      ],
      "metadata": {
        "id": "724kPeDcQhel"
      },
      "execution_count": 2,
      "outputs": []
    },
    {
      "cell_type": "code",
      "source": [
        "# remove uncessary files\n",
        "! rm -r /content/charanet.zip\n",
        "! rm -r /content/kaggle.json\n",
        "! rm -r /content/sample_data"
      ],
      "metadata": {
        "id": "oLuA8KQqRm8U"
      },
      "execution_count": 3,
      "outputs": []
    },
    {
      "cell_type": "markdown",
      "source": [
        "## Modules & Libraries"
      ],
      "metadata": {
        "id": "SZm0uo6WUX1i"
      }
    },
    {
      "cell_type": "code",
      "source": [
        "import os\n",
        "import pandas as pd\n",
        "import librosa\n",
        "import numpy as np"
      ],
      "metadata": {
        "id": "nHC_OeuOUZ8N"
      },
      "execution_count": 4,
      "outputs": []
    },
    {
      "cell_type": "code",
      "source": [
        "dataset_path = '/content/charaNet'\n",
        "training_folder = '/content/charaNet/train'\n",
        "validation_folder = '/content/charaNet/val'\n",
        "testing_folder = '/content/charaNet/test'"
      ],
      "metadata": {
        "id": "ZqTQz2llVPxP"
      },
      "execution_count": 5,
      "outputs": []
    },
    {
      "cell_type": "markdown",
      "source": [
        "## **Preprocessing**"
      ],
      "metadata": {
        "id": "gIq7_SHib1N4"
      }
    },
    {
      "cell_type": "code",
      "source": [
        "def extract_mfcc_features(file_path, n_mfcc=13):\n",
        "    \"\"\"\n",
        "    Extracts MFCC features from an audio file.\n",
        "    \"\"\"\n",
        "\n",
        "    y, sr = librosa.load(file_path, sr=None)\n",
        "    mfccs = librosa.feature.mfcc(y=y, sr=sr, n_mfcc=n_mfcc)\n",
        "    return mfccs.T  # Transpose for compatibility with the CSV format"
      ],
      "metadata": {
        "id": "whC8g1oUXXMT"
      },
      "execution_count": 6,
      "outputs": []
    },
    {
      "cell_type": "code",
      "source": [
        "\n",
        "def preprocess_and_save_features(dataset_path, output_csv):\n",
        "    \"\"\"\n",
        "    Preprocesses audio files in the dataset and saves MFCC features to a CSV file.\n",
        "    \"\"\"\n",
        "\n",
        "\n",
        "    data = []\n",
        "    classes = os.listdir(dataset_path)\n",
        "\n",
        "    for class_label in classes:\n",
        "        class_path = os.path.join(dataset_path, class_label)\n",
        "        audio_files = os.listdir(class_path)\n",
        "\n",
        "        for audio_file in audio_files:\n",
        "            file_path = os.path.join(class_path, audio_file)\n",
        "            mfccs = extract_mfcc_features(file_path)\n",
        "            for mfcc in mfccs:\n",
        "                data.append((class_label, mfcc.tolist()))  # Convert MFCC array to list for CSV\n",
        "\n",
        "    df = pd.DataFrame(data, columns=['class', 'mfcc'])\n",
        "    df.to_csv(output_csv, index=False)"
      ],
      "metadata": {
        "id": "4-H7dz6IUYBd"
      },
      "execution_count": 7,
      "outputs": []
    },
    {
      "cell_type": "code",
      "source": [
        "from google.colab import drive\n",
        "drive.mount('/content/drive')"
      ],
      "metadata": {
        "colab": {
          "base_uri": "https://localhost:8080/"
        },
        "id": "0ooGzTwBaL9H",
        "outputId": "4a2f0ab5-84a0-41e1-df85-732f4eec4e35"
      },
      "execution_count": 11,
      "outputs": [
        {
          "output_type": "stream",
          "name": "stdout",
          "text": [
            "Mounted at /content/drive\n"
          ]
        }
      ]
    },
    {
      "cell_type": "code",
      "source": [
        "!touch /content/train_feat.csv\n",
        "!touch /content/val_feat.csv\n",
        "!touch /content/test_feat.csv\n",
        "\n",
        "csv_path = \"/content/drive/MyDrive/Models/FeatherFind\""
      ],
      "metadata": {
        "id": "oJnZYPSOcqtr"
      },
      "execution_count": null,
      "outputs": []
    },
    {
      "cell_type": "markdown",
      "source": [
        "**Generate and save MFCC features**"
      ],
      "metadata": {
        "id": "DKZgQ5tmbJcs"
      }
    },
    {
      "cell_type": "code",
      "source": [
        "output_csv = '/content/train_feat.csv'\n",
        "preprocess_and_save_features(training_folder, output_csv)\n",
        "\n",
        "!cp /content/train_feat.csv $csv_path"
      ],
      "metadata": {
        "id": "jL-nIM84cA0i"
      },
      "execution_count": 10,
      "outputs": []
    },
    {
      "cell_type": "markdown",
      "source": [
        "**Generate and save validation set features**"
      ],
      "metadata": {
        "id": "DeKJo5SzboLM"
      }
    },
    {
      "cell_type": "code",
      "source": [
        "output_csv = '/content/val_feat.csv'\n",
        "preprocess_and_save_features(validation_folder, output_csv)\n",
        "\n",
        "!cp /content/val_feat.csv $csv_path"
      ],
      "metadata": {
        "id": "2xa244U6afQ6"
      },
      "execution_count": 13,
      "outputs": []
    },
    {
      "cell_type": "markdown",
      "source": [
        "**Generate and save test set features**"
      ],
      "metadata": {
        "id": "4aL3kbq0b4YM"
      }
    },
    {
      "cell_type": "code",
      "source": [
        "output_csv = '/content/test_feat.csv'\n",
        "preprocess_and_save_features(testing_folder, output_csv)\n",
        "\n",
        "!cp /content/test_feat.csv $csv_path"
      ],
      "metadata": {
        "id": "0xC4pY50b3zx"
      },
      "execution_count": 14,
      "outputs": []
    }
  ]
}