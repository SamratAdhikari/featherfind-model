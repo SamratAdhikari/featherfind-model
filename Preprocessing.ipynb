{
  "nbformat": 4,
  "nbformat_minor": 0,
  "metadata": {
    "colab": {
      "provenance": [],
      "gpuType": "T4"
    },
    "kernelspec": {
      "name": "python3",
      "display_name": "Python 3"
    },
    "language_info": {
      "name": "python"
    },
    "accelerator": "GPU"
  },
  "cells": [
    {
      "cell_type": "markdown",
      "source": [
        "## Initialization"
      ],
      "metadata": {
        "id": "PRLrqe5yQb1q"
      }
    },
    {
      "cell_type": "code",
      "execution_count": null,
      "metadata": {
        "id": "ZjZQxR1sPgmw"
      },
      "outputs": [],
      "source": [
        "%%capture\n",
        "# give permissions to kaggle API\n",
        "! pip install kaggle\n",
        "! mkdir /root/.kaggle\n",
        "! cp kaggle.json /root/.kaggle\n",
        "! chmod 600 /root/.kaggle/kaggle.json"
      ]
    },
    {
      "cell_type": "code",
      "source": [
        "%%capture\n",
        "# download dataset from kaggle to colab\n",
        "! kaggle datasets download -d rayonegautam/charanet\n",
        "\n",
        "# extract the content of the zipped file\n",
        "!unzip /content/charanet.zip -d /content/"
      ],
      "metadata": {
        "id": "724kPeDcQhel"
      },
      "execution_count": null,
      "outputs": []
    },
    {
      "cell_type": "code",
      "source": [
        "# remove uncessary files\n",
        "! rm -r /content/charanet.zip\n",
        "! rm -r /content/kaggle.json\n",
        "! rm -r /content/sample_data"
      ],
      "metadata": {
        "id": "oLuA8KQqRm8U"
      },
      "execution_count": null,
      "outputs": []
    },
    {
      "cell_type": "markdown",
      "source": [
        "## Modules & Libraries"
      ],
      "metadata": {
        "id": "SZm0uo6WUX1i"
      }
    },
    {
      "cell_type": "code",
      "source": [
        "import os\n",
        "import librosa\n",
        "import numpy as np\n",
        "import pandas as pd\n",
        "import matplotlib.pyplot as plt"
      ],
      "metadata": {
        "id": "nHC_OeuOUZ8N"
      },
      "execution_count": null,
      "outputs": []
    },
    {
      "cell_type": "code",
      "source": [
        "dataset_path = '/content/charaNet'\n",
        "subfolders = os.listdir(dataset_path)"
      ],
      "metadata": {
        "id": "ZqTQz2llVPxP"
      },
      "execution_count": null,
      "outputs": []
    },
    {
      "cell_type": "code",
      "source": [
        "categories = {}\n",
        "label = []\n",
        "count = []\n",
        "\n",
        "for subfolder in subfolders:\n",
        "    subfolder_path = os.path.join(dataset_path, subfolder)\n",
        "    audio_classes = os.listdir(subfolder_path)\n",
        "\n",
        "    for audio_class in sorted(audio_classes):\n",
        "      audio_path = os.path.join(subfolder_path, audio_class)\n",
        "      audio_list = os.listdir(audio_path)\n",
        "      print(audio_class)\n",
        "      count.append(len(audio_list))\n",
        "      label.append(audio_class)\n",
        "\n",
        "    break\n",
        "\n",
        "df = pd.DataFrame({'Label': label, 'Count': count})"
      ],
      "metadata": {
        "colab": {
          "base_uri": "https://localhost:8080/"
        },
        "id": "whC8g1oUXXMT",
        "outputId": "4d34b58b-1b38-4576-f7af-1475bd9e1117"
      },
      "execution_count": null,
      "outputs": [
        {
          "output_type": "stream",
          "name": "stdout",
          "text": [
            "Asian Koel\n",
            "Black Kite\n",
            "Black-breasted Parrotbill\n",
            "Black-necked crane\n",
            "Bristled Grassbird\n",
            "Cheer Pheasant\n",
            "Common Cuckoo\n",
            "Common Pochard\n",
            "Common Wood Pigeon\n",
            "Eastern Imperial Eagle\n",
            "Egyptian Vulture\n",
            "Great Slaty Woodpecker\n",
            "Greater Spotted Eagle\n",
            "Grey Treepie\n",
            "Grey-crowned Prinia\n",
            "Grey-sided Thrush\n",
            "Himalayan Monal\n",
            "House Crow\n",
            "House Sparrow\n",
            "Indian Spotted Eagle\n",
            "Jerdon_s Babbler\n",
            "Kashmir Flycatcher\n",
            "Large-billed Crow\n",
            "Long-tailed Duck\n",
            "Pallas_s Fish Eagle\n",
            "Red-billed Blue Magpie\n",
            "Rose-ringed Parakeet\n",
            "Rufous Treepie\n",
            "Rufous-necked Hornbill\n",
            "Rustic Bunting\n",
            "Saker Falcon\n",
            "Sarus Crane\n",
            "Satyr Tragopan\n",
            "Slender-billed Babbler\n",
            "Spiny Babbler\n",
            "Spotted Dove\n",
            "Steppe Eagle\n",
            "Swamp Francolin\n",
            "Swamp Grass-babbler\n",
            "White-throated Bushchat\n",
            "Wood Snipe\n"
          ]
        }
      ]
    },
    {
      "cell_type": "code",
      "source": [],
      "metadata": {
        "id": "EjrpH7O7baSR"
      },
      "execution_count": null,
      "outputs": []
    }
  ]
}