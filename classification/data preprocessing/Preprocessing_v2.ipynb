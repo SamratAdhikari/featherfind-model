{
 "cells": [
  {
   "cell_type": "markdown",
   "id": "075488c7-3f5f-45be-8dc5-2ef3bb17c886",
   "metadata": {},
   "source": [
    "# Preprocessing"
   ]
  },
  {
   "cell_type": "markdown",
   "id": "e216ddf6-9b32-476d-a051-18ea6954d582",
   "metadata": {},
   "source": [
    "### Initialization"
   ]
  },
  {
   "cell_type": "code",
   "execution_count": 1,
   "id": "87a0df50-8e27-4d03-9b45-e1398d93ed1b",
   "metadata": {},
   "outputs": [],
   "source": [
    "import os\n",
    "import gc\n",
    "import librosa\n",
    "import librosa.display\n",
    "import matplotlib.pyplot as plt\n",
    "import numpy as np\n",
    "import splitfolders"
   ]
  },
  {
   "cell_type": "code",
   "execution_count": 2,
   "id": "b5907e28-b8e7-42c0-9fed-0d4d9aef5e4e",
   "metadata": {},
   "outputs": [],
   "source": [
    "AUDIO_PATH = './augmented_data_v2/'\n",
    "MEL_SPECTROGRAM_PATH = './mel_spectrogram_data_v2'\n",
    "MFCC_PATH = './mfcc_data'"
   ]
  },
  {
   "cell_type": "code",
   "execution_count": 3,
   "id": "713ae7d9-07de-4c17-b28b-156963958212",
   "metadata": {},
   "outputs": [],
   "source": [
    "BIRDS = os.listdir(AUDIO_PATH)"
   ]
  },
  {
   "cell_type": "markdown",
   "id": "85bf4239-4923-4896-bf17-933eeda7d7d1",
   "metadata": {},
   "source": [
    "### Mel Spectrogram"
   ]
  },
  {
   "cell_type": "code",
   "execution_count": 4,
   "id": "cbde47b3-59de-441e-a4f8-2132f31110a1",
   "metadata": {},
   "outputs": [],
   "source": [
    "# Mel spectrogram parameters based on base paper\n",
    "SAMPLE_RATE = 32000          \n",
    "N_MELS = 48             \n",
    "WIN_SIZE = 1024        \n",
    "HOP_SIZE = 512    \n",
    "WINDOW_TYPE = 'hann'   \n",
    "FMIN = 500     \n",
    "FMAX = 12500    "
   ]
  },
  {
   "cell_type": "code",
   "execution_count": 5,
   "id": "436fc6c5-d115-4736-aba2-d603d7f4c0e7",
   "metadata": {},
   "outputs": [],
   "source": [
    "def save_mel_spectrograms(audio_path, mel_path):\n",
    "    for bird_class in os.listdir(audio_path):\n",
    "        print(f\"Processing {bird_class} ...\")\n",
    "        bird_audio_folder = os.path.join(audio_path, bird_class)\n",
    "        bird_mel_folder = os.path.join(mel_path, bird_class)\n",
    "\n",
    "        os.makedirs(bird_mel_folder, exist_ok=True)\n",
    "\n",
    "        for idx, audio_file in enumerate(os.listdir(bird_audio_folder)):\n",
    "            audio_file_path = os.path.join(bird_audio_folder, audio_file)\n",
    "            \n",
    "            # Load audio file\n",
    "            signal, sr = librosa.load(audio_file_path, sr=SAMPLE_RATE, duration=10)\n",
    "            \n",
    "            # Generate Mel spectrogram\n",
    "            S = librosa.feature.melspectrogram(y=signal,\n",
    "                                               sr=sr,\n",
    "                                               n_fft=WIN_SIZE,\n",
    "                                               hop_length=HOP_SIZE,\n",
    "                                               n_mels=N_MELS,\n",
    "                                               fmin=FMIN,\n",
    "                                               fmax=FMAX,\n",
    "                                               window=WINDOW_TYPE)\n",
    "            \n",
    "            # Convert power spectrogram to decibel (log scale)\n",
    "            mel_spec = librosa.power_to_db(S, ref=np.max)\n",
    "\n",
    "            # Plot and save the Mel spectrogram as an image\n",
    "            plt.figure(figsize=(5, 5))  # You can adjust this for different image sizes\n",
    "            librosa.display.specshow(mel_spec, sr=sr, fmin=FMIN, fmax=FMAX, y_axis='linear')\n",
    "            plt.axis('off')  # Remove axes for cleaner image\n",
    "            \n",
    "            # Save image to target folder\n",
    "            save_path = os.path.join(bird_mel_folder, f\"{bird_class}_{idx + 1}.jpg\")\n",
    "            plt.savefig(save_path, bbox_inches='tight', pad_inches=0)\n",
    "            \n",
    "            plt.clf()\n",
    "            plt.close()\n",
    "            del signal, S, mel_spec\n",
    "            gc.collect()\n",
    "\n",
    "\n"
   ]
  },
  {
   "cell_type": "code",
   "execution_count": 6,
   "id": "ed225243-0dc4-49fd-8120-02dfa7aab2d1",
   "metadata": {},
   "outputs": [
    {
     "name": "stdout",
     "output_type": "stream",
     "text": [
      "Processing Swamp Francolin ...\n",
      "Processing Swamp Grass Babbler ...\n",
      "Processing White-throated Bush Chat ...\n",
      "Processing Wood Snipe ...\n"
     ]
    }
   ],
   "source": [
    "# Generate and save Mel spectrograms\n",
    "save_mel_spectrograms(AUDIO_PATH, MEL_SPECTROGRAM_PATH)"
   ]
  },
  {
   "cell_type": "markdown",
   "id": "f81a16e1-201a-475d-956d-30064af7a599",
   "metadata": {},
   "source": [
    "**Split**"
   ]
  },
  {
   "cell_type": "code",
   "execution_count": 7,
   "id": "4eebcb0a-4b85-4f75-9565-8c27fc643182",
   "metadata": {},
   "outputs": [],
   "source": [
    "MEL_SPECTROGRAM_DATASET = './mel_spectrogram_dataset_v2'"
   ]
  },
  {
   "cell_type": "code",
   "execution_count": 8,
   "id": "eb860f41-7a9b-4099-9ff7-55f1f9138995",
   "metadata": {},
   "outputs": [
    {
     "name": "stderr",
     "output_type": "stream",
     "text": [
      "Copying files: 20500 files [02:46, 123.38 files/s]\n"
     ]
    }
   ],
   "source": [
    "splitfolders.ratio(input=MEL_SPECTROGRAM_PATH, output=MEL_SPECTROGRAM_DATASET, seed=2024, ratio=(.7, 0.2,0.1), group_prefix=None, move=False)"
   ]
  },
  {
   "cell_type": "markdown",
   "id": "1d204acc-2252-499d-89e7-437d27dde295",
   "metadata": {},
   "source": [
    "### MFCC"
   ]
  },
  {
   "cell_type": "code",
   "execution_count": null,
   "id": "f19a8c77-b0d9-47a4-a625-16364906d727",
   "metadata": {},
   "outputs": [],
   "source": []
  }
 ],
 "metadata": {
  "kernelspec": {
   "display_name": "Python 3 (ipykernel)",
   "language": "python",
   "name": "python3"
  },
  "language_info": {
   "codemirror_mode": {
    "name": "ipython",
    "version": 3
   },
   "file_extension": ".py",
   "mimetype": "text/x-python",
   "name": "python",
   "nbconvert_exporter": "python",
   "pygments_lexer": "ipython3",
   "version": "3.11.3"
  }
 },
 "nbformat": 4,
 "nbformat_minor": 5
}
