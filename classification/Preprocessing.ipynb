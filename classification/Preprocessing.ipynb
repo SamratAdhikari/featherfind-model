{
  "nbformat": 4,
  "nbformat_minor": 0,
  "metadata": {
    "colab": {
      "provenance": [],
      "gpuType": "T4"
    },
    "kernelspec": {
      "name": "python3",
      "display_name": "Python 3"
    },
    "language_info": {
      "name": "python"
    },
    "accelerator": "GPU"
  },
  "cells": [
    {
      "cell_type": "markdown",
      "source": [
        "## Initialization"
      ],
      "metadata": {
        "id": "PRLrqe5yQb1q"
      }
    },
    {
      "cell_type": "code",
      "execution_count": null,
      "metadata": {
        "id": "ZjZQxR1sPgmw"
      },
      "outputs": [],
      "source": [
        "%%capture\n",
        "# give permissions to kaggle API\n",
        "! pip install kaggle\n",
        "! mkdir /root/.kaggle\n",
        "! cp kaggle.json /root/.kaggle\n",
        "! chmod 600 /root/.kaggle/kaggle.json"
      ]
    },
    {
      "cell_type": "code",
      "source": [
        "%%capture\n",
        "# download dataset from kaggle to colab\n",
        "! kaggle datasets download -d rayonegautam/charanet\n",
        "\n",
        "# extract the content of the zipped file\n",
        "!unzip /content/charanet.zip -d /content/"
      ],
      "metadata": {
        "id": "724kPeDcQhel"
      },
      "execution_count": null,
      "outputs": []
    },
    {
      "cell_type": "code",
      "source": [
        "# remove uncessary files\n",
        "! rm -r /content/charanet.zip\n",
        "! rm -r /content/kaggle.json\n",
        "! rm -r /content/sample_data"
      ],
      "metadata": {
        "id": "oLuA8KQqRm8U"
      },
      "execution_count": null,
      "outputs": []
    },
    {
      "cell_type": "markdown",
      "source": [
        "## Modules & Libraries"
      ],
      "metadata": {
        "id": "SZm0uo6WUX1i"
      }
    },
    {
      "cell_type": "code",
      "source": [
        "import os\n",
        "import math\n",
        "import json\n",
        "import pandas as pd\n",
        "import librosa\n",
        "import numpy as np"
      ],
      "metadata": {
        "id": "nHC_OeuOUZ8N"
      },
      "execution_count": null,
      "outputs": []
    },
    {
      "cell_type": "code",
      "source": [
        "dataset_path = '/content/charaNet'\n",
        "training_folder = '/content/charaNet/train'\n",
        "validation_folder = '/content/charaNet/val'\n",
        "testing_folder = '/content/charaNet/test'\n",
        "\n",
        "SAMPLE_RATE = 22050\n",
        "DURATION = 10 # sec\n",
        "SAMPLES_PER_TRACK = SAMPLE_RATE * DURATION"
      ],
      "metadata": {
        "id": "ZqTQz2llVPxP"
      },
      "execution_count": null,
      "outputs": []
    },
    {
      "cell_type": "markdown",
      "source": [
        "## **Preprocessing**"
      ],
      "metadata": {
        "id": "gIq7_SHib1N4"
      }
    },
    {
      "cell_type": "code",
      "source": [
        "def save_mfcc(dataset_path, json_path, n_mfcc=13, n_fft=2048, hop_length=512, num_segments=1):\n",
        "\n",
        "    # dictionary to store data\n",
        "    data = {\n",
        "        'mapping': [],\n",
        "        'mfcc': [],\n",
        "        'labels': []\n",
        "    }\n",
        "\n",
        "    samples_per_seg = SAMPLES_PER_TRACK // num_segments\n",
        "\n",
        "    # expected number of mfcc vectors per segment:\n",
        "    # round the number to higher integer\n",
        "    mfcc_vectors = math.ceil(samples_per_seg / hop_length)\n",
        "\n",
        "    # loop through all genres\n",
        "    for i, (dirpath, dirnames, filenames) in enumerate(os.walk(dataset_path)):\n",
        "\n",
        "        if dirpath is not dataset_path:\n",
        "            # save the semantic label\n",
        "            dirpath_components = dirpath.split('/')\n",
        "            semantic_label = dirpath_components[-1]\n",
        "            data['mapping'].append(semantic_label)\n",
        "            print(f'Processing {i}: {semantic_label}')\n",
        "\n",
        "            # process files for a specific genre\n",
        "            for file in filenames:\n",
        "                file_path = os.path.join(dirpath, file)\n",
        "                signal, sr = librosa.load(file_path, sr=SAMPLE_RATE)\n",
        "\n",
        "                # process segments extracting mfcc and storing data\n",
        "                for curr_seg in range(num_segments):\n",
        "                    start_sample = samples_per_seg * curr_seg\n",
        "                    finish_sample = start_sample + samples_per_seg\n",
        "\n",
        "                    mfcc = librosa.feature.mfcc(y=signal[start_sample:finish_sample],\n",
        "                                               sr=sr,\n",
        "                                               n_fft=n_fft,\n",
        "                                               n_mfcc=n_mfcc,\n",
        "                                               hop_length=hop_length)\n",
        "\n",
        "                    mfcc = mfcc.T # to make it easier to work with\n",
        "\n",
        "                    # store mfcc for segment if it has the expected length\n",
        "                    if len(mfcc) == mfcc_vectors:\n",
        "                        data['mfcc'].append(mfcc.tolist())\n",
        "                        data['labels'].append(i-1)\n",
        "\n",
        "                        # print(f'{file_path}, segment:{curr_seg+1}')\n",
        "\n",
        "    with open(json_path, 'w') as fp:\n",
        "        json.dump(data, fp, indent=4)"
      ],
      "metadata": {
        "id": "4-H7dz6IUYBd"
      },
      "execution_count": null,
      "outputs": []
    },
    {
      "cell_type": "code",
      "source": [
        "from google.colab import drive\n",
        "drive.mount('/content/drive')"
      ],
      "metadata": {
        "colab": {
          "base_uri": "https://localhost:8080/"
        },
        "id": "0ooGzTwBaL9H",
        "outputId": "113f2cc3-a35f-4cca-fdea-31c0157a71b8"
      },
      "execution_count": null,
      "outputs": [
        {
          "output_type": "stream",
          "name": "stdout",
          "text": [
            "Mounted at /content/drive\n"
          ]
        }
      ]
    },
    {
      "cell_type": "code",
      "source": [
        "!touch /content/train_data.json\n",
        "!touch /content/val_data.json\n",
        "!touch /content/test_data.json\n",
        "\n",
        "json_path = \"/content/drive/MyDrive/Models/FeatherFind\""
      ],
      "metadata": {
        "id": "oJnZYPSOcqtr"
      },
      "execution_count": null,
      "outputs": []
    },
    {
      "cell_type": "markdown",
      "source": [
        "**Generate and save MFCC features**"
      ],
      "metadata": {
        "id": "DKZgQ5tmbJcs"
      }
    },
    {
      "cell_type": "code",
      "source": [
        "output_path = '/content/train_data.json'\n",
        "save_mfcc(training_folder, output_path)\n",
        "\n",
        "!cp /content/train_data.json $json_path"
      ],
      "metadata": {
        "id": "jL-nIM84cA0i",
        "colab": {
          "base_uri": "https://localhost:8080/"
        },
        "outputId": "50965f2d-4890-4713-e4d8-f6713939f0c9"
      },
      "execution_count": null,
      "outputs": [
        {
          "output_type": "stream",
          "name": "stdout",
          "text": [
            "Processing: White-throated Bushchat\n",
            "Processing: Long-tailed Duck\n",
            "Processing: Swamp Francolin\n",
            "Processing: Jerdon_s Babbler\n",
            "Processing: Grey-sided Thrush\n",
            "Processing: Egyptian Vulture\n",
            "Processing: Grey-crowned Prinia\n",
            "Processing: Black Kite\n",
            "Processing: Slender-billed Babbler\n",
            "Processing: Spotted Dove\n",
            "Processing: Himalayan Monal\n",
            "Processing: Large-billed Crow\n",
            "Processing: Grey Treepie\n",
            "Processing: Red-billed Blue Magpie\n",
            "Processing: Cheer Pheasant\n",
            "Processing: Spiny Babbler\n",
            "Processing: House Sparrow\n",
            "Processing: Great Slaty Woodpecker\n",
            "Processing: Common Cuckoo\n",
            "Processing: Rufous-necked Hornbill\n",
            "Processing: Wood Snipe\n",
            "Processing: Pallas_s Fish Eagle\n",
            "Processing: Bristled Grassbird\n",
            "Processing: Common Wood Pigeon\n",
            "Processing: House Crow\n",
            "Processing: Rufous Treepie\n",
            "Processing: Asian Koel\n",
            "Processing: Black-necked crane\n",
            "Processing: Indian Spotted Eagle\n",
            "Processing: Sarus Crane\n",
            "Processing: Greater Spotted Eagle\n",
            "Processing: Rustic Bunting\n",
            "Processing: Eastern Imperial Eagle\n",
            "Processing: Rose-ringed Parakeet\n",
            "Processing: Black-breasted Parrotbill\n",
            "Processing: Steppe Eagle\n",
            "Processing: Kashmir Flycatcher\n",
            "Processing: Common Pochard\n",
            "Processing: Swamp Grass-babbler\n",
            "Processing: Saker Falcon\n",
            "Processing: Satyr Tragopan\n"
          ]
        }
      ]
    },
    {
      "cell_type": "markdown",
      "source": [
        "**Generate and save validation set features**"
      ],
      "metadata": {
        "id": "DeKJo5SzboLM"
      }
    },
    {
      "cell_type": "code",
      "source": [
        "output_path = '/content/val_data.json'\n",
        "save_mfcc(validation_folder, output_path)\n",
        "\n",
        "!cp /content/val_data.json $json_path"
      ],
      "metadata": {
        "id": "2xa244U6afQ6",
        "colab": {
          "base_uri": "https://localhost:8080/"
        },
        "outputId": "3c107fb9-f7a6-4182-94cb-85a56f2cdfa1"
      },
      "execution_count": null,
      "outputs": [
        {
          "output_type": "stream",
          "name": "stdout",
          "text": [
            "Processing 2: White-throated Bushchat\n",
            "Processing 3: Long-tailed Duck\n",
            "Processing 4: Swamp Francolin\n",
            "Processing 5: Jerdon_s Babbler\n",
            "Processing 6: Grey-sided Thrush\n",
            "Processing 7: Egyptian Vulture\n",
            "Processing 8: Grey-crowned Prinia\n",
            "Processing 9: Black Kite\n",
            "Processing 10: Slender-billed Babbler\n",
            "Processing 11: Spotted Dove\n",
            "Processing 12: Himalayan Monal\n",
            "Processing 13: Large-billed Crow\n",
            "Processing 14: Grey Treepie\n",
            "Processing 15: Red-billed Blue Magpie\n",
            "Processing 16: Cheer Pheasant\n",
            "Processing 17: Spiny Babbler\n",
            "Processing 18: House Sparrow\n",
            "Processing 19: Great Slaty Woodpecker\n",
            "Processing 20: Common Cuckoo\n",
            "Processing 21: Rufous-necked Hornbill\n",
            "Processing 22: Wood Snipe\n",
            "Processing 23: Pallas_s Fish Eagle\n",
            "Processing 24: Bristled Grassbird\n",
            "Processing 25: Common Wood Pigeon\n",
            "Processing 26: House Crow\n",
            "Processing 27: Rufous Treepie\n",
            "Processing 28: Asian Koel\n",
            "Processing 29: Black-necked crane\n",
            "Processing 30: Indian Spotted Eagle\n",
            "Processing 31: Sarus Crane\n",
            "Processing 32: Greater Spotted Eagle\n",
            "Processing 33: Rustic Bunting\n",
            "Processing 34: Eastern Imperial Eagle\n",
            "Processing 35: Rose-ringed Parakeet\n",
            "Processing 36: Black-breasted Parrotbill\n",
            "Processing 37: Steppe Eagle\n",
            "Processing 38: Kashmir Flycatcher\n",
            "Processing 39: Common Pochard\n",
            "Processing 40: Swamp Grass-babbler\n",
            "Processing 41: Saker Falcon\n",
            "Processing 42: Satyr Tragopan\n"
          ]
        }
      ]
    },
    {
      "cell_type": "markdown",
      "source": [
        "**Generate and save test set features**"
      ],
      "metadata": {
        "id": "4aL3kbq0b4YM"
      }
    },
    {
      "cell_type": "code",
      "source": [
        "output_path = '/content/test_data.json'\n",
        "save_mfcc(testing_folder, output_path)\n",
        "\n",
        "!cp /content/test_data.json $json_path"
      ],
      "metadata": {
        "id": "0xC4pY50b3zx",
        "colab": {
          "base_uri": "https://localhost:8080/"
        },
        "outputId": "cf2f49f3-e229-4bf4-b29f-323af060f834"
      },
      "execution_count": null,
      "outputs": [
        {
          "output_type": "stream",
          "name": "stdout",
          "text": [
            "Processing 1: White-throated Bushchat\n",
            "Processing 2: Long-tailed Duck\n",
            "Processing 3: Swamp Francolin\n",
            "Processing 4: Jerdon_s Babbler\n",
            "Processing 5: Grey-sided Thrush\n",
            "Processing 6: Egyptian Vulture\n",
            "Processing 7: Grey-crowned Prinia\n",
            "Processing 8: Black Kite\n",
            "Processing 9: Slender-billed Babbler\n",
            "Processing 10: Spotted Dove\n",
            "Processing 11: Himalayan Monal\n",
            "Processing 12: Large-billed Crow\n",
            "Processing 13: Grey Treepie\n",
            "Processing 14: Red-billed Blue Magpie\n",
            "Processing 15: Cheer Pheasant\n",
            "Processing 16: Spiny Babbler\n",
            "Processing 17: House Sparrow\n",
            "Processing 18: Great Slaty Woodpecker\n",
            "Processing 19: Common Cuckoo\n",
            "Processing 20: Rufous-necked Hornbill\n",
            "Processing 21: Wood Snipe\n",
            "Processing 22: Pallas_s Fish Eagle\n",
            "Processing 23: Bristled Grassbird\n",
            "Processing 24: Common Wood Pigeon\n",
            "Processing 25: House Crow\n",
            "Processing 26: Rufous Treepie\n",
            "Processing 27: Asian Koel\n",
            "Processing 28: Black-necked crane\n",
            "Processing 29: Indian Spotted Eagle\n",
            "Processing 30: Sarus Crane\n",
            "Processing 31: Greater Spotted Eagle\n",
            "Processing 32: Rustic Bunting\n",
            "Processing 33: Eastern Imperial Eagle\n",
            "Processing 34: Rose-ringed Parakeet\n",
            "Processing 35: Black-breasted Parrotbill\n",
            "Processing 36: Steppe Eagle\n",
            "Processing 37: Kashmir Flycatcher\n",
            "Processing 38: Common Pochard\n",
            "Processing 39: Swamp Grass-babbler\n",
            "Processing 40: Saker Falcon\n",
            "Processing 41: Satyr Tragopan\n"
          ]
        }
      ]
    }
  ]
}