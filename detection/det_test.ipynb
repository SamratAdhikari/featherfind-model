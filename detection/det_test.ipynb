{
 "cells": [
  {
   "cell_type": "code",
   "execution_count": null,
   "metadata": {},
   "outputs": [],
   "source": [
    "def preprocess_audio(frame):\n",
    "    # Convert frame to mono\n",
    "    mono_frame = np.mean(frame, axis=1)\n",
    "    # Extract MFCC features\n",
    "    mfccs = librosa.feature.mfcc(y=mono_frame, sr=SAMPLE_RATE, n_mfcc=MFCC_COUNT)\n",
    "    return np.mean(mfccs, axis=1).reshape(1, -1)\n"
   ]
  },
  {
   "cell_type": "code",
   "execution_count": null,
   "metadata": {},
   "outputs": [],
   "source": [
    "\n",
    "def classify_sound(mfcc_features):\n",
    "    prediction = model.predict(mfcc_features)\n",
    "    # Assuming binary classification: 0 for non-bird, 1 for bird\n",
    "    return prediction[0][0] > 0.5\n"
   ]
  },
  {
   "cell_type": "code",
   "execution_count": null,
   "metadata": {},
   "outputs": [],
   "source": [
    "\n",
    "def audio_callback(in_data, frame_count, time_info, status):\n",
    "    audio_frame = np.frombuffer(in_data, dtype=np.float32)\n",
    "    mfcc_features = preprocess_audio(audio_frame)\n",
    "    is_bird = classify_sound(mfcc_features)\n",
    "    if is_bird:\n",
    "        print(\"Bird sound detected!\")\n",
    "    return (in_data, pyaudio.paContinue)"
   ]
  },
  {
   "cell_type": "code",
   "execution_count": null,
   "metadata": {},
   "outputs": [],
   "source": [
    "\n",
    "\n",
    "def main():\n",
    "    # Initialize PyAudio\n",
    "    p = pyaudio.PyAudio()\n",
    "    \n",
    "    # Open audio stream\n",
    "    stream = p.open(format=pyaudio.paFloat32,\n",
    "                    channels=1,\n",
    "                    rate=SAMPLE_RATE,\n",
    "                    input=True,\n",
    "                    frames_per_buffer=FRAME_SIZE,\n",
    "                    stream_callback=audio_callback)\n",
    "\n",
    "    print(\"Recording...\")\n",
    "    try:\n",
    "        stream.start_stream()\n",
    "        while stream.is_active():\n",
    "            pass\n",
    "    except KeyboardInterrupt:\n",
    "        print(\"Stopping...\")\n",
    "    finally:\n",
    "        stream.stop_stream()\n",
    "        stream.close()\n",
    "        p.terminate()\n",
    "\n",
    "if __name__ == \"__main__\":\n",
    "    main()"
   ]
  }
 ],
 "metadata": {
  "language_info": {
   "name": "python"
  }
 },
 "nbformat": 4,
 "nbformat_minor": 2
}
