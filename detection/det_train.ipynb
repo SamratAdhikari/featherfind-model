{
 "cells": [
  {
   "cell_type": "markdown",
   "metadata": {},
   "source": [
    "# Detection Model Training"
   ]
  },
  {
   "cell_type": "markdown",
   "metadata": {},
   "source": [
    "### Installation"
   ]
  },
  {
   "cell_type": "code",
   "execution_count": 34,
   "metadata": {},
   "outputs": [
    {
     "name": "stdout",
     "output_type": "stream",
     "text": [
      "Requirement already satisfied: torch in /Users/gauravgiri/Developer/featherfind/model/venv/lib/python3.12/site-packages (2.4.0)\n",
      "Requirement already satisfied: filelock in /Users/gauravgiri/Developer/featherfind/model/venv/lib/python3.12/site-packages (from torch) (3.15.4)\n",
      "Requirement already satisfied: typing-extensions>=4.8.0 in /Users/gauravgiri/Developer/featherfind/model/venv/lib/python3.12/site-packages (from torch) (4.12.2)\n",
      "Requirement already satisfied: sympy in /Users/gauravgiri/Developer/featherfind/model/venv/lib/python3.12/site-packages (from torch) (1.13.1)\n",
      "Requirement already satisfied: networkx in /Users/gauravgiri/Developer/featherfind/model/venv/lib/python3.12/site-packages (from torch) (3.3)\n",
      "Requirement already satisfied: jinja2 in /Users/gauravgiri/Developer/featherfind/model/venv/lib/python3.12/site-packages (from torch) (3.1.4)\n",
      "Requirement already satisfied: fsspec in /Users/gauravgiri/Developer/featherfind/model/venv/lib/python3.12/site-packages (from torch) (2024.6.1)\n",
      "Requirement already satisfied: setuptools in /Users/gauravgiri/Developer/featherfind/model/venv/lib/python3.12/site-packages (from torch) (72.1.0)\n",
      "Requirement already satisfied: MarkupSafe>=2.0 in /Users/gauravgiri/Developer/featherfind/model/venv/lib/python3.12/site-packages (from jinja2->torch) (2.1.5)\n",
      "Requirement already satisfied: mpmath<1.4,>=1.1.0 in /Users/gauravgiri/Developer/featherfind/model/venv/lib/python3.12/site-packages (from sympy->torch) (1.3.0)\n",
      "\n",
      "\u001b[1m[\u001b[0m\u001b[34;49mnotice\u001b[0m\u001b[1;39;49m]\u001b[0m\u001b[39;49m A new release of pip is available: \u001b[0m\u001b[31;49m24.0\u001b[0m\u001b[39;49m -> \u001b[0m\u001b[32;49m24.2\u001b[0m\n",
      "\u001b[1m[\u001b[0m\u001b[34;49mnotice\u001b[0m\u001b[1;39;49m]\u001b[0m\u001b[39;49m To update, run: \u001b[0m\u001b[32;49mpip install --upgrade pip\u001b[0m\n",
      "Requirement already satisfied: pandas in /Users/gauravgiri/Developer/featherfind/model/venv/lib/python3.12/site-packages (2.2.2)\n",
      "Requirement already satisfied: numpy>=1.26.0 in /Users/gauravgiri/Developer/featherfind/model/venv/lib/python3.12/site-packages (from pandas) (2.0.1)\n",
      "Requirement already satisfied: python-dateutil>=2.8.2 in /Users/gauravgiri/Developer/featherfind/model/venv/lib/python3.12/site-packages (from pandas) (2.9.0.post0)\n",
      "Requirement already satisfied: pytz>=2020.1 in /Users/gauravgiri/Developer/featherfind/model/venv/lib/python3.12/site-packages (from pandas) (2024.1)\n",
      "Requirement already satisfied: tzdata>=2022.7 in /Users/gauravgiri/Developer/featherfind/model/venv/lib/python3.12/site-packages (from pandas) (2024.1)\n",
      "Requirement already satisfied: six>=1.5 in /Users/gauravgiri/Developer/featherfind/model/venv/lib/python3.12/site-packages (from python-dateutil>=2.8.2->pandas) (1.16.0)\n",
      "\n",
      "\u001b[1m[\u001b[0m\u001b[34;49mnotice\u001b[0m\u001b[1;39;49m]\u001b[0m\u001b[39;49m A new release of pip is available: \u001b[0m\u001b[31;49m24.0\u001b[0m\u001b[39;49m -> \u001b[0m\u001b[32;49m24.2\u001b[0m\n",
      "\u001b[1m[\u001b[0m\u001b[34;49mnotice\u001b[0m\u001b[1;39;49m]\u001b[0m\u001b[39;49m To update, run: \u001b[0m\u001b[32;49mpip install --upgrade pip\u001b[0m\n",
      "Requirement already satisfied: matplotlib in /Users/gauravgiri/Developer/featherfind/model/venv/lib/python3.12/site-packages (3.9.0)\n",
      "Requirement already satisfied: contourpy>=1.0.1 in /Users/gauravgiri/Developer/featherfind/model/venv/lib/python3.12/site-packages (from matplotlib) (1.2.1)\n",
      "Requirement already satisfied: cycler>=0.10 in /Users/gauravgiri/Developer/featherfind/model/venv/lib/python3.12/site-packages (from matplotlib) (0.12.1)\n",
      "Requirement already satisfied: fonttools>=4.22.0 in /Users/gauravgiri/Developer/featherfind/model/venv/lib/python3.12/site-packages (from matplotlib) (4.53.1)\n",
      "Requirement already satisfied: kiwisolver>=1.3.1 in /Users/gauravgiri/Developer/featherfind/model/venv/lib/python3.12/site-packages (from matplotlib) (1.4.5)\n",
      "Requirement already satisfied: numpy>=1.23 in /Users/gauravgiri/Developer/featherfind/model/venv/lib/python3.12/site-packages (from matplotlib) (2.0.1)\n",
      "Requirement already satisfied: packaging>=20.0 in /Users/gauravgiri/Developer/featherfind/model/venv/lib/python3.12/site-packages (from matplotlib) (24.1)\n",
      "Requirement already satisfied: pillow>=8 in /Users/gauravgiri/Developer/featherfind/model/venv/lib/python3.12/site-packages (from matplotlib) (10.4.0)\n",
      "Requirement already satisfied: pyparsing>=2.3.1 in /Users/gauravgiri/Developer/featherfind/model/venv/lib/python3.12/site-packages (from matplotlib) (3.1.2)\n",
      "Requirement already satisfied: python-dateutil>=2.7 in /Users/gauravgiri/Developer/featherfind/model/venv/lib/python3.12/site-packages (from matplotlib) (2.9.0.post0)\n",
      "Requirement already satisfied: six>=1.5 in /Users/gauravgiri/Developer/featherfind/model/venv/lib/python3.12/site-packages (from python-dateutil>=2.7->matplotlib) (1.16.0)\n",
      "\n",
      "\u001b[1m[\u001b[0m\u001b[34;49mnotice\u001b[0m\u001b[1;39;49m]\u001b[0m\u001b[39;49m A new release of pip is available: \u001b[0m\u001b[31;49m24.0\u001b[0m\u001b[39;49m -> \u001b[0m\u001b[32;49m24.2\u001b[0m\n",
      "\u001b[1m[\u001b[0m\u001b[34;49mnotice\u001b[0m\u001b[1;39;49m]\u001b[0m\u001b[39;49m To update, run: \u001b[0m\u001b[32;49mpip install --upgrade pip\u001b[0m\n",
      "Requirement already satisfied: torchaudio in /Users/gauravgiri/Developer/featherfind/model/venv/lib/python3.12/site-packages (2.4.0)\n",
      "Requirement already satisfied: torch==2.4.0 in /Users/gauravgiri/Developer/featherfind/model/venv/lib/python3.12/site-packages (from torchaudio) (2.4.0)\n",
      "Requirement already satisfied: filelock in /Users/gauravgiri/Developer/featherfind/model/venv/lib/python3.12/site-packages (from torch==2.4.0->torchaudio) (3.15.4)\n",
      "Requirement already satisfied: typing-extensions>=4.8.0 in /Users/gauravgiri/Developer/featherfind/model/venv/lib/python3.12/site-packages (from torch==2.4.0->torchaudio) (4.12.2)\n",
      "Requirement already satisfied: sympy in /Users/gauravgiri/Developer/featherfind/model/venv/lib/python3.12/site-packages (from torch==2.4.0->torchaudio) (1.13.1)\n",
      "Requirement already satisfied: networkx in /Users/gauravgiri/Developer/featherfind/model/venv/lib/python3.12/site-packages (from torch==2.4.0->torchaudio) (3.3)\n",
      "Requirement already satisfied: jinja2 in /Users/gauravgiri/Developer/featherfind/model/venv/lib/python3.12/site-packages (from torch==2.4.0->torchaudio) (3.1.4)\n",
      "Requirement already satisfied: fsspec in /Users/gauravgiri/Developer/featherfind/model/venv/lib/python3.12/site-packages (from torch==2.4.0->torchaudio) (2024.6.1)\n",
      "Requirement already satisfied: setuptools in /Users/gauravgiri/Developer/featherfind/model/venv/lib/python3.12/site-packages (from torch==2.4.0->torchaudio) (72.1.0)\n",
      "Requirement already satisfied: MarkupSafe>=2.0 in /Users/gauravgiri/Developer/featherfind/model/venv/lib/python3.12/site-packages (from jinja2->torch==2.4.0->torchaudio) (2.1.5)\n",
      "Requirement already satisfied: mpmath<1.4,>=1.1.0 in /Users/gauravgiri/Developer/featherfind/model/venv/lib/python3.12/site-packages (from sympy->torch==2.4.0->torchaudio) (1.3.0)\n",
      "\n",
      "\u001b[1m[\u001b[0m\u001b[34;49mnotice\u001b[0m\u001b[1;39;49m]\u001b[0m\u001b[39;49m A new release of pip is available: \u001b[0m\u001b[31;49m24.0\u001b[0m\u001b[39;49m -> \u001b[0m\u001b[32;49m24.2\u001b[0m\n",
      "\u001b[1m[\u001b[0m\u001b[34;49mnotice\u001b[0m\u001b[1;39;49m]\u001b[0m\u001b[39;49m To update, run: \u001b[0m\u001b[32;49mpip install --upgrade pip\u001b[0m\n",
      "Requirement already satisfied: librosa in /Users/gauravgiri/Developer/featherfind/model/venv/lib/python3.12/site-packages (0.10.2.post1)\n",
      "Requirement already satisfied: audioread>=2.1.9 in /Users/gauravgiri/Developer/featherfind/model/venv/lib/python3.12/site-packages (from librosa) (3.0.1)\n",
      "Requirement already satisfied: numpy!=1.22.0,!=1.22.1,!=1.22.2,>=1.20.3 in /Users/gauravgiri/Developer/featherfind/model/venv/lib/python3.12/site-packages (from librosa) (2.0.1)\n",
      "Requirement already satisfied: scipy>=1.2.0 in /Users/gauravgiri/Developer/featherfind/model/venv/lib/python3.12/site-packages (from librosa) (1.14.0)\n",
      "Requirement already satisfied: scikit-learn>=0.20.0 in /Users/gauravgiri/Developer/featherfind/model/venv/lib/python3.12/site-packages (from librosa) (1.5.1)\n",
      "Requirement already satisfied: joblib>=0.14 in /Users/gauravgiri/Developer/featherfind/model/venv/lib/python3.12/site-packages (from librosa) (1.4.2)\n",
      "Requirement already satisfied: decorator>=4.3.0 in /Users/gauravgiri/Developer/featherfind/model/venv/lib/python3.12/site-packages (from librosa) (5.1.1)\n",
      "Requirement already satisfied: numba>=0.51.0 in /Users/gauravgiri/Developer/featherfind/model/venv/lib/python3.12/site-packages (from librosa) (0.60.0)\n",
      "Requirement already satisfied: soundfile>=0.12.1 in /Users/gauravgiri/Developer/featherfind/model/venv/lib/python3.12/site-packages (from librosa) (0.12.1)\n",
      "Requirement already satisfied: pooch>=1.1 in /Users/gauravgiri/Developer/featherfind/model/venv/lib/python3.12/site-packages (from librosa) (1.8.2)\n",
      "Requirement already satisfied: soxr>=0.3.2 in /Users/gauravgiri/Developer/featherfind/model/venv/lib/python3.12/site-packages (from librosa) (0.4.0)\n",
      "Requirement already satisfied: typing-extensions>=4.1.1 in /Users/gauravgiri/Developer/featherfind/model/venv/lib/python3.12/site-packages (from librosa) (4.12.2)\n",
      "Requirement already satisfied: lazy-loader>=0.1 in /Users/gauravgiri/Developer/featherfind/model/venv/lib/python3.12/site-packages (from librosa) (0.4)\n",
      "Requirement already satisfied: msgpack>=1.0 in /Users/gauravgiri/Developer/featherfind/model/venv/lib/python3.12/site-packages (from librosa) (1.0.8)\n",
      "Requirement already satisfied: packaging in /Users/gauravgiri/Developer/featherfind/model/venv/lib/python3.12/site-packages (from lazy-loader>=0.1->librosa) (24.1)\n",
      "Requirement already satisfied: llvmlite<0.44,>=0.43.0dev0 in /Users/gauravgiri/Developer/featherfind/model/venv/lib/python3.12/site-packages (from numba>=0.51.0->librosa) (0.43.0)\n",
      "Requirement already satisfied: platformdirs>=2.5.0 in /Users/gauravgiri/Developer/featherfind/model/venv/lib/python3.12/site-packages (from pooch>=1.1->librosa) (4.2.2)\n",
      "Requirement already satisfied: requests>=2.19.0 in /Users/gauravgiri/Developer/featherfind/model/venv/lib/python3.12/site-packages (from pooch>=1.1->librosa) (2.32.3)\n",
      "Requirement already satisfied: threadpoolctl>=3.1.0 in /Users/gauravgiri/Developer/featherfind/model/venv/lib/python3.12/site-packages (from scikit-learn>=0.20.0->librosa) (3.5.0)\n",
      "Requirement already satisfied: cffi>=1.0 in /Users/gauravgiri/Developer/featherfind/model/venv/lib/python3.12/site-packages (from soundfile>=0.12.1->librosa) (1.16.0)\n",
      "Requirement already satisfied: pycparser in /Users/gauravgiri/Developer/featherfind/model/venv/lib/python3.12/site-packages (from cffi>=1.0->soundfile>=0.12.1->librosa) (2.22)\n",
      "Requirement already satisfied: charset-normalizer<4,>=2 in /Users/gauravgiri/Developer/featherfind/model/venv/lib/python3.12/site-packages (from requests>=2.19.0->pooch>=1.1->librosa) (3.3.2)\n",
      "Requirement already satisfied: idna<4,>=2.5 in /Users/gauravgiri/Developer/featherfind/model/venv/lib/python3.12/site-packages (from requests>=2.19.0->pooch>=1.1->librosa) (3.7)\n",
      "Requirement already satisfied: urllib3<3,>=1.21.1 in /Users/gauravgiri/Developer/featherfind/model/venv/lib/python3.12/site-packages (from requests>=2.19.0->pooch>=1.1->librosa) (2.2.2)\n",
      "Requirement already satisfied: certifi>=2017.4.17 in /Users/gauravgiri/Developer/featherfind/model/venv/lib/python3.12/site-packages (from requests>=2.19.0->pooch>=1.1->librosa) (2024.7.4)\n",
      "\n",
      "\u001b[1m[\u001b[0m\u001b[34;49mnotice\u001b[0m\u001b[1;39;49m]\u001b[0m\u001b[39;49m A new release of pip is available: \u001b[0m\u001b[31;49m24.0\u001b[0m\u001b[39;49m -> \u001b[0m\u001b[32;49m24.2\u001b[0m\n",
      "\u001b[1m[\u001b[0m\u001b[34;49mnotice\u001b[0m\u001b[1;39;49m]\u001b[0m\u001b[39;49m To update, run: \u001b[0m\u001b[32;49mpip install --upgrade pip\u001b[0m\n",
      "Requirement already satisfied: scikit-learn in /Users/gauravgiri/Developer/featherfind/model/venv/lib/python3.12/site-packages (1.5.1)\n",
      "Requirement already satisfied: numpy>=1.19.5 in /Users/gauravgiri/Developer/featherfind/model/venv/lib/python3.12/site-packages (from scikit-learn) (2.0.1)\n",
      "Requirement already satisfied: scipy>=1.6.0 in /Users/gauravgiri/Developer/featherfind/model/venv/lib/python3.12/site-packages (from scikit-learn) (1.14.0)\n",
      "Requirement already satisfied: joblib>=1.2.0 in /Users/gauravgiri/Developer/featherfind/model/venv/lib/python3.12/site-packages (from scikit-learn) (1.4.2)\n",
      "Requirement already satisfied: threadpoolctl>=3.1.0 in /Users/gauravgiri/Developer/featherfind/model/venv/lib/python3.12/site-packages (from scikit-learn) (3.5.0)\n",
      "\n",
      "\u001b[1m[\u001b[0m\u001b[34;49mnotice\u001b[0m\u001b[1;39;49m]\u001b[0m\u001b[39;49m A new release of pip is available: \u001b[0m\u001b[31;49m24.0\u001b[0m\u001b[39;49m -> \u001b[0m\u001b[32;49m24.2\u001b[0m\n",
      "\u001b[1m[\u001b[0m\u001b[34;49mnotice\u001b[0m\u001b[1;39;49m]\u001b[0m\u001b[39;49m To update, run: \u001b[0m\u001b[32;49mpip install --upgrade pip\u001b[0m\n",
      "Collecting torchsummary\n",
      "  Downloading torchsummary-1.5.1-py3-none-any.whl.metadata (296 bytes)\n",
      "Downloading torchsummary-1.5.1-py3-none-any.whl (2.8 kB)\n",
      "Installing collected packages: torchsummary\n",
      "Successfully installed torchsummary-1.5.1\n",
      "\n",
      "\u001b[1m[\u001b[0m\u001b[34;49mnotice\u001b[0m\u001b[1;39;49m]\u001b[0m\u001b[39;49m A new release of pip is available: \u001b[0m\u001b[31;49m24.0\u001b[0m\u001b[39;49m -> \u001b[0m\u001b[32;49m24.2\u001b[0m\n",
      "\u001b[1m[\u001b[0m\u001b[34;49mnotice\u001b[0m\u001b[1;39;49m]\u001b[0m\u001b[39;49m To update, run: \u001b[0m\u001b[32;49mpip install --upgrade pip\u001b[0m\n"
     ]
    }
   ],
   "source": [
    "! pip install torch\n",
    "! pip install pandas\n",
    "! pip install matplotlib\n",
    "! pip install torchaudio\n",
    "! pip install librosa\n",
    "! pip install scikit-learn\n",
    "! pip install torchsummary"
   ]
  },
  {
   "cell_type": "markdown",
   "metadata": {},
   "source": [
    "### Download the required dataset and labels"
   ]
  },
  {
   "cell_type": "code",
   "execution_count": null,
   "metadata": {},
   "outputs": [],
   "source": [
    "! wget https://ndownloader.figshare.com/files/10853303 -O ff1010bird_metadata_2018.csv\n",
    "! wget https://archive.org/download/ff1010bird/ff1010bird_wav.zip\n",
    "! unzip ff1010bird_wav.zip # TODO: split the dataset into 0 and 1"
   ]
  },
  {
   "cell_type": "markdown",
   "metadata": {},
   "source": [
    "### Imports"
   ]
  },
  {
   "cell_type": "code",
   "execution_count": 1,
   "metadata": {},
   "outputs": [],
   "source": [
    "import torch\n",
    "from torch import nn\n",
    "import torchaudio\n",
    "from torch.utils.data import Dataset, DataLoader\n",
    "import pandas as pd\n",
    "import os\n",
    "import librosa\n",
    "import time\n",
    "import matplotlib.pyplot as plt\n",
    "from sklearn.model_selection import train_test_split\n",
    "import numpy as np\n",
    "from IPython.display import Audio\n",
    "from torch.functional import F\n",
    "from sklearn.metrics import accuracy_score, precision_score, recall_score, f1_score"
   ]
  },
  {
   "cell_type": "markdown",
   "metadata": {},
   "source": [
    "### Files and Folders"
   ]
  },
  {
   "cell_type": "code",
   "execution_count": 2,
   "metadata": {},
   "outputs": [],
   "source": [
    "dataset_folder = \"../../dataset-detection\" # Change this later\n",
    "annotation_file = \"ff1010bird_metadata_2018.csv\""
   ]
  },
  {
   "cell_type": "markdown",
   "metadata": {},
   "source": [
    "### Hyperparameters"
   ]
  },
  {
   "cell_type": "code",
   "execution_count": 3,
   "metadata": {},
   "outputs": [],
   "source": [
    "EPOCHS = 10\n",
    "BATCH_SIZE = 32\n",
    "SAMPLE_RATE = 22050\n",
    "HOP_SIZE = 128\n",
    "FRAME_SIZE = 512\n",
    "NUM_CLASSES = 1 # Either Bird Sound is present or Not present\n",
    "N_MFCC = 13\n",
    "DURATION = 10 # 10 seconds of each audio clip"
   ]
  },
  {
   "cell_type": "code",
   "execution_count": 4,
   "metadata": {},
   "outputs": [],
   "source": [
    "device = torch.device(\"mps\")"
   ]
  },
  {
   "cell_type": "markdown",
   "metadata": {},
   "source": [
    "## Loading the Dataset"
   ]
  },
  {
   "cell_type": "code",
   "execution_count": 14,
   "metadata": {},
   "outputs": [],
   "source": [
    "class DetectionDataset(Dataset):\n",
    "    def __init__(self, df, transform=False):\n",
    "        super().__init__()\n",
    "        self.df = df\n",
    "        self.transform = transform\n",
    "    \n",
    "    def __len__(self):\n",
    "        return self.df.shape[0]\n",
    "\n",
    "    def __getitem__(self, idx):\n",
    "        label = self.df[\"hasbird\"].iloc[idx]\n",
    "        itemid = self.df[\"itemid\"].iloc[idx]\n",
    "        signal, sr = librosa.load(os.path.join(dataset_folder, str(label), str(itemid) + \".wav\"))\n",
    "        \n",
    "        if sr != SAMPLE_RATE:\n",
    "            signal = librosa.resample(signal, sr, SAMPLE_RATE)\n",
    "        \n",
    "        if self.transform:\n",
    "            signal = librosa.feature.mfcc(y=signal, sr=SAMPLE_RATE, n_mfcc=N_MFCC, n_fft=FRAME_SIZE, hop_length=HOP_SIZE)\n",
    "            signal = torch.tensor(signal).unsqueeze(0)\n",
    "            label = torch.tensor(label,dtype=torch.float32)\n",
    "\n",
    "        return signal, label"
   ]
  },
  {
   "cell_type": "code",
   "execution_count": 15,
   "metadata": {},
   "outputs": [
    {
     "data": {
      "text/html": [
       "<div>\n",
       "<style scoped>\n",
       "    .dataframe tbody tr th:only-of-type {\n",
       "        vertical-align: middle;\n",
       "    }\n",
       "\n",
       "    .dataframe tbody tr th {\n",
       "        vertical-align: top;\n",
       "    }\n",
       "\n",
       "    .dataframe thead th {\n",
       "        text-align: right;\n",
       "    }\n",
       "</style>\n",
       "<table border=\"1\" class=\"dataframe\">\n",
       "  <thead>\n",
       "    <tr style=\"text-align: right;\">\n",
       "      <th></th>\n",
       "      <th>itemid</th>\n",
       "      <th>hasbird</th>\n",
       "    </tr>\n",
       "  </thead>\n",
       "  <tbody>\n",
       "    <tr>\n",
       "      <th>0</th>\n",
       "      <td>64486</td>\n",
       "      <td>0</td>\n",
       "    </tr>\n",
       "    <tr>\n",
       "      <th>1</th>\n",
       "      <td>2525</td>\n",
       "      <td>0</td>\n",
       "    </tr>\n",
       "    <tr>\n",
       "      <th>2</th>\n",
       "      <td>44981</td>\n",
       "      <td>0</td>\n",
       "    </tr>\n",
       "    <tr>\n",
       "      <th>3</th>\n",
       "      <td>101323</td>\n",
       "      <td>0</td>\n",
       "    </tr>\n",
       "    <tr>\n",
       "      <th>4</th>\n",
       "      <td>165746</td>\n",
       "      <td>0</td>\n",
       "    </tr>\n",
       "    <tr>\n",
       "      <th>...</th>\n",
       "      <td>...</td>\n",
       "      <td>...</td>\n",
       "    </tr>\n",
       "    <tr>\n",
       "      <th>7685</th>\n",
       "      <td>168059</td>\n",
       "      <td>0</td>\n",
       "    </tr>\n",
       "    <tr>\n",
       "      <th>7686</th>\n",
       "      <td>164922</td>\n",
       "      <td>0</td>\n",
       "    </tr>\n",
       "    <tr>\n",
       "      <th>7687</th>\n",
       "      <td>80789</td>\n",
       "      <td>1</td>\n",
       "    </tr>\n",
       "    <tr>\n",
       "      <th>7688</th>\n",
       "      <td>104733</td>\n",
       "      <td>1</td>\n",
       "    </tr>\n",
       "    <tr>\n",
       "      <th>7689</th>\n",
       "      <td>40565</td>\n",
       "      <td>0</td>\n",
       "    </tr>\n",
       "  </tbody>\n",
       "</table>\n",
       "<p>7690 rows × 2 columns</p>\n",
       "</div>"
      ],
      "text/plain": [
       "      itemid  hasbird\n",
       "0      64486        0\n",
       "1       2525        0\n",
       "2      44981        0\n",
       "3     101323        0\n",
       "4     165746        0\n",
       "...      ...      ...\n",
       "7685  168059        0\n",
       "7686  164922        0\n",
       "7687   80789        1\n",
       "7688  104733        1\n",
       "7689   40565        0\n",
       "\n",
       "[7690 rows x 2 columns]"
      ]
     },
     "execution_count": 15,
     "metadata": {},
     "output_type": "execute_result"
    }
   ],
   "source": [
    "df = pd.read_csv(os.path.join(dataset_folder, annotation_file))\n",
    "df = df.drop(\"datasetid\",axis=1)\n",
    "df"
   ]
  },
  {
   "cell_type": "markdown",
   "metadata": {},
   "source": [
    "## Train Test Split"
   ]
  },
  {
   "cell_type": "code",
   "execution_count": 26,
   "metadata": {},
   "outputs": [],
   "source": [
    "df_train_val, df_test = train_test_split(df, test_size=0.1, shuffle=True, random_state=42)\n",
    "df_train, df_val = train_test_split(df_train_val,test_size=0.2, shuffle=True, random_state=42)"
   ]
  },
  {
   "cell_type": "code",
   "execution_count": 27,
   "metadata": {},
   "outputs": [],
   "source": [
    "train_dataset = DetectionDataset(df_train, transform=True)\n",
    "val_dataset = DetectionDataset(df_val, transform=True)\n",
    "test_dataset = DetectionDataset(df_test, transform=True)\n",
    "\n",
    "train_dataloader = DataLoader(train_dataset, batch_size=BATCH_SIZE, shuffle=True)\n",
    "val_dataloader = DataLoader(train_dataset, batch_size=BATCH_SIZE, shuffle=False)\n",
    "test_dataloader = DataLoader(test_dataset, batch_size=BATCH_SIZE, shuffle=False)"
   ]
  },
  {
   "cell_type": "markdown",
   "metadata": {},
   "source": [
    "## Detection Model"
   ]
  },
  {
   "cell_type": "code",
   "execution_count": 1,
   "metadata": {},
   "outputs": [
    {
     "ename": "NameError",
     "evalue": "name 'nn' is not defined",
     "output_type": "error",
     "traceback": [
      "\u001b[0;31m---------------------------------------------------------------------------\u001b[0m",
      "\u001b[0;31mNameError\u001b[0m                                 Traceback (most recent call last)",
      "Cell \u001b[0;32mIn[1], line 1\u001b[0m\n\u001b[0;32m----> 1\u001b[0m \u001b[38;5;28;01mclass\u001b[39;00m \u001b[38;5;21;01mCustomDetectionModel\u001b[39;00m(\u001b[43mnn\u001b[49m\u001b[38;5;241m.\u001b[39mModule):\n\u001b[1;32m      2\u001b[0m     \u001b[38;5;28;01mdef\u001b[39;00m \u001b[38;5;21m__init__\u001b[39m(\u001b[38;5;28mself\u001b[39m):\n\u001b[1;32m      3\u001b[0m         \u001b[38;5;28msuper\u001b[39m(CustomDetectionModel, \u001b[38;5;28mself\u001b[39m)\u001b[38;5;241m.\u001b[39m\u001b[38;5;21m__init__\u001b[39m()\n",
      "\u001b[0;31mNameError\u001b[0m: name 'nn' is not defined"
     ]
    }
   ],
   "source": [
    "class CustomDetectionModel(nn.Module):\n",
    "    def __init__(self):\n",
    "        super(CustomDetectionModel, self).__init__()\n",
    "        self.conv1 = nn.Conv2d(1, 32, kernel_size=3, stride=1, padding=1)\n",
    "        self.conv2 = nn.Conv2d(32, 64, kernel_size=3, stride=1, padding=1)\n",
    "        self.pool = nn.MaxPool2d(kernel_size=2, stride=2, padding=0)\n",
    "        \n",
    "        self._to_linear = None\n",
    "        self.convs = nn.Sequential(\n",
    "            self.conv1,\n",
    "            nn.ReLU(),\n",
    "            self.pool,\n",
    "            self.conv2,\n",
    "            nn.ReLU(),\n",
    "            self.pool\n",
    "        )\n",
    "        self._get_conv_output((1, 1, N_MFCC, 1723))\n",
    "        \n",
    "        self.fc1 = nn.Linear(self._to_linear, 128)\n",
    "        self.fc2 = nn.Linear(128, NUM_CLASSES)\n",
    "    \n",
    "    def _get_conv_output(self, shape):\n",
    "        with torch.no_grad():\n",
    "            input = torch.rand(shape)\n",
    "            output = self.convs(input)\n",
    "            self._to_linear = output.numel()\n",
    "    \n",
    "    def forward(self, x):\n",
    "        x = self.convs(x)\n",
    "        x = x.view(x.size(0), -1)\n",
    "        x = F.relu(self.fc1(x))\n",
    "        x = self.fc2(x)\n",
    "        return x\n"
   ]
  },
  {
   "cell_type": "code",
   "execution_count": 29,
   "metadata": {},
   "outputs": [],
   "source": [
    "model = CustomDetectionModel().to(device)\n",
    "criterion = nn.BCEWithLogitsLoss()\n",
    "optimizer = torch.optim.SGD(model.parameters(), lr=0.001)"
   ]
  },
  {
   "cell_type": "code",
   "execution_count": 30,
   "metadata": {},
   "outputs": [
    {
     "name": "stdout",
     "output_type": "stream",
     "text": [
      "Epoch [2/10] ---------------------\n",
      "Training Loss: 2.1093, Training Accuracy: 0.7453\n",
      "Validation Loss: 0.5073, Validation Accuracy: 0.7534\n",
      "---------------------------------------------------------\n",
      "Epoch [3/10] ---------------------\n",
      "Training Loss: 0.5001, Training Accuracy: 0.7666\n",
      "Validation Loss: 0.4722, Validation Accuracy: 0.7773\n",
      "---------------------------------------------------------\n",
      "Epoch [4/10] ---------------------\n",
      "Training Loss: 0.4780, Training Accuracy: 0.7803\n",
      "Validation Loss: 0.4772, Validation Accuracy: 0.7966\n",
      "---------------------------------------------------------\n",
      "Epoch [5/10] ---------------------\n",
      "Training Loss: 0.4596, Training Accuracy: 0.7883\n",
      "Validation Loss: 0.4284, Validation Accuracy: 0.7971\n",
      "---------------------------------------------------------\n",
      "Epoch [6/10] ---------------------\n",
      "Training Loss: 0.4441, Training Accuracy: 0.7906\n",
      "Validation Loss: 0.4063, Validation Accuracy: 0.7939\n",
      "---------------------------------------------------------\n",
      "Epoch [7/10] ---------------------\n",
      "Training Loss: 0.4188, Training Accuracy: 0.8060\n",
      "Validation Loss: 0.5775, Validation Accuracy: 0.8185\n",
      "---------------------------------------------------------\n",
      "Epoch [8/10] ---------------------\n",
      "Training Loss: 0.4032, Training Accuracy: 0.8150\n",
      "Validation Loss: 0.3839, Validation Accuracy: 0.7921\n",
      "---------------------------------------------------------\n",
      "Epoch [9/10] ---------------------\n",
      "Training Loss: 0.3828, Training Accuracy: 0.8223\n",
      "Validation Loss: 0.3399, Validation Accuracy: 0.8371\n",
      "---------------------------------------------------------\n",
      "Epoch [10/10] ---------------------\n",
      "Training Loss: 0.3561, Training Accuracy: 0.8403\n",
      "Validation Loss: 0.3140, Validation Accuracy: 0.8250\n",
      "---------------------------------------------------------\n",
      "Epoch [11/10] ---------------------\n",
      "Training Loss: 0.3311, Training Accuracy: 0.8465\n",
      "Validation Loss: 0.2711, Validation Accuracy: 0.8669\n",
      "---------------------------------------------------------\n"
     ]
    }
   ],
   "source": [
    "train_loss_history = []\n",
    "train_acc_history = []\n",
    "\n",
    "val_loss_history = []\n",
    "val_acc_history = []\n",
    "\n",
    "best_accuracy = 0\n",
    "\n",
    "for epoch in range(1, EPOCHS + 1):\n",
    "    model.train()\n",
    "    train_running_loss = 0.0\n",
    "    correct_train = 0\n",
    "    total_train = 0\n",
    "    \n",
    "    for signal, label in train_dataloader:\n",
    "        signal, label = signal.to(device), label.to(device).float()\n",
    "        optimizer.zero_grad()\n",
    "        \n",
    "        pred = model(signal).to(device)\n",
    "        loss = criterion(pred, label)\n",
    "        \n",
    "        loss.backward()\n",
    "        optimizer.step()\n",
    "\n",
    "        train_running_loss += loss.item() * signal.size(0)\n",
    "        predicted = (torch.sigmoid(pred) > 0.5).int()  # Use torch.sigmoid for output probabilities\n",
    "        total_train += label.size(0)\n",
    "        correct_train += (predicted == label.int()).sum().item()\n",
    "\n",
    "    train_loss = train_running_loss / total_train\n",
    "    train_loss_history.append(train_loss)\n",
    "    train_accuracy = correct_train / total_train\n",
    "    train_acc_history.append(train_accuracy)\n",
    "\n",
    "    model.eval()\n",
    "    val_running_loss = 0.0\n",
    "    correct_val = 0\n",
    "    total_val = 0\n",
    "    \n",
    "    with torch.no_grad():\n",
    "        for data, labels in val_dataloader:\n",
    "            data, labels = data.to(device), labels.to(device).float()\n",
    "            outputs = model(data)\n",
    "            loss = criterion(outputs, labels)\n",
    "            val_running_loss += loss.item() * data.size(0)\n",
    "            predicted = (torch.sigmoid(outputs) > 0.5).int()  # Use torch.sigmoid for output probabilities\n",
    "            total_val += labels.size(0)\n",
    "            correct_val += (predicted == labels.int()).sum().item()\n",
    "        \n",
    "    val_loss = val_running_loss / total_val\n",
    "    val_loss_history.append(val_loss)\n",
    "    val_accuracy = correct_val / total_val\n",
    "    val_acc_history.append(val_accuracy)\n",
    "    \n",
    "    if val_accuracy > best_accuracy:\n",
    "        best_accuracy = val_accuracy\n",
    "        torch.save(model.state_dict(), \"best_model.pth\")\n",
    "    \n",
    "    print(f'Epoch [{epoch}/{EPOCHS}] ---------------------\\n'\n",
    "          f'Training Loss: {train_loss:.4f}, '\n",
    "          f'Training Accuracy: {train_accuracy:.4f}\\n'\n",
    "          f'Validation Loss: {val_loss:.4f}, '\n",
    "          f'Validation Accuracy: {val_accuracy:.4f}\\n'\n",
    "          '---------------------------------------------------------')"
   ]
  },
  {
   "cell_type": "code",
   "execution_count": 32,
   "metadata": {},
   "outputs": [
    {
     "data": {
      "image/png": "[encoded data removed]",
      "text/plain": [
       "<Figure size 1200x500 with 2 Axes>"
      ]
     },
     "metadata": {},
     "output_type": "display_data"
    }
   ],
   "source": [
    "import matplotlib.pyplot as plt\n",
    "\n",
    "f, (ax1, ax2) = plt.subplots(1, 2, figsize=(12, 5))\n",
    "\n",
    "# Plot for training loss vs validation loss\n",
    "ax1.plot(range(EPOCHS), train_loss_history, color=\"blue\", label='Training Loss')\n",
    "ax1.plot(range(EPOCHS), val_loss_history, color=\"red\", label='Validation Loss')\n",
    "ax1.set_title(\"Training Loss vs Validation Loss\")\n",
    "ax1.set_xlabel(\"Epoch\")\n",
    "ax1.set_ylabel(\"Loss\")\n",
    "ax1.legend()\n",
    "\n",
    "# Plot for training accuracy vs validation accuracy\n",
    "ax2.plot(range(EPOCHS), train_acc_history, color=\"blue\", label='Training Accuracy')\n",
    "ax2.plot(range(EPOCHS), val_acc_history, color=\"red\", label='Validation Accuracy')\n",
    "ax2.set_title(\"Training Accuracy vs Validation Accuracy\")\n",
    "ax2.set_xlabel(\"Epoch\")\n",
    "ax2.set_ylabel(\"Accuracy\")\n",
    "ax2.legend(loc=\"lower right\")\n",
    "\n",
    "plt.show()"
   ]
  },
  {
   "cell_type": "code",
   "execution_count": 31,
   "metadata": {},
   "outputs": [
    {
     "name": "stderr",
     "output_type": "stream",
     "text": [
      "/var/folders/z4/7np1khpd4hv91y__r6wtydmm0000gn/T/ipykernel_17992/1410145472.py:11: UserWarning: To copy construct from a tensor, it is recommended to use sourceTensor.clone().detach() or sourceTensor.clone().detach().requires_grad_(True), rather than torch.tensor(sourceTensor).\n",
      "  label = torch.tensor(label, dtype=torch.float32)\n"
     ]
    },
    {
     "name": "stdout",
     "output_type": "stream",
     "text": [
      "Test Loss: 0.4840\n",
      "Test Accuracy: 0.7737\n",
      "Test Precision: 0.6277\n",
      "Test Recall: 0.2980\n",
      "Test F1 Score: 0.4041\n"
     ]
    }
   ],
   "source": [
    "def evaluate(model, dataloader, criterion):\n",
    "    model.eval()\n",
    "    val_loss = 0\n",
    "    all_preds = []\n",
    "    all_labels = []\n",
    "\n",
    "    with torch.no_grad():\n",
    "        for signal, label in dataloader:\n",
    "            signal, label = signal.to(device), label.to(device)\n",
    "            pred = model(signal).squeeze(1)\n",
    "            label = torch.tensor(label, dtype=torch.float32)\n",
    "\n",
    "            loss = criterion(pred, label)\n",
    "            val_loss += loss.item()\n",
    "\n",
    "            preds = torch.sigmoid(pred) > 0.5  # Apply sigmoid and threshold at 0.5\n",
    "            all_preds.extend(preds.cpu().numpy())\n",
    "            all_labels.extend(label.cpu().numpy())\n",
    "\n",
    "    avg_loss = val_loss / len(dataloader)\n",
    "    accuracy = accuracy_score(all_labels, all_preds)\n",
    "    precision = precision_score(all_labels, all_preds)\n",
    "    recall = recall_score(all_labels, all_preds)\n",
    "    f1 = f1_score(all_labels, all_preds)\n",
    "\n",
    "    return avg_loss, accuracy, precision, recall, f1\n",
    "\n",
    "# Evaluate the model on the validation dataset\n",
    "val_loss, val_accuracy, val_precision, val_recall, val_f1 = evaluate(model, test_dataloader, criterion)\n",
    "\n",
    "print(f\"Test Loss: {val_loss:.4f}\")\n",
    "print(f\"Test Accuracy: {val_accuracy:.4f}\")\n",
    "print(f\"Test Precision: {val_precision:.4f}\")\n",
    "print(f\"Test Recall: {val_recall:.4f}\")\n",
    "print(f\"Test F1 Score: {val_f1:.4f}\")"
   ]
  }
 ],
 "metadata": {
  "kernelspec": {
   "display_name": "venv",
   "language": "python",
   "name": "python3"
  },
  "language_info": {
   "codemirror_mode": {
    "name": "ipython",
    "version": 3
   },
   "file_extension": ".py",
   "mimetype": "text/x-python",
   "name": "python",
   "nbconvert_exporter": "python",
   "pygments_lexer": "ipython3",
   "version": "3.12.4"
  }
 },
 "nbformat": 4,
 "nbformat_minor": 2
}
